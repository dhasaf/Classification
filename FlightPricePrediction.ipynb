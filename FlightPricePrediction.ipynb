{
  "nbformat": 4,
  "nbformat_minor": 0,
  "metadata": {
    "colab": {
      "provenance": [],
      "include_colab_link": true
    },
    "kernelspec": {
      "name": "python3",
      "display_name": "Python 3"
    },
    "language_info": {
      "name": "python"
    }
  },
  "cells": [
    {
      "cell_type": "markdown",
      "metadata": {
        "id": "view-in-github",
        "colab_type": "text"
      },
      "source": [
        "<a href=\"https://colab.research.google.com/github/dhasaf/Classification/blob/main/FlightPricePrediction.ipynb\" target=\"_parent\"><img src=\"https://colab.research.google.com/assets/colab-badge.svg\" alt=\"Open In Colab\"/></a>"
      ]
    },
    {
      "cell_type": "markdown",
      "source": [
        "# **Flight price prediction**\n",
        "### Our goal is to build supervised Natural Language Processing (NLP) machine learning models to predict the price of a flight."
      ],
      "metadata": {
        "id": "tvBr1y8yttm6"
      }
    },
    {
      "cell_type": "markdown",
      "source": [
        "### **Import Libaries**"
      ],
      "metadata": {
        "id": "dSxhsDsottaq"
      }
    },
    {
      "cell_type": "code",
      "execution_count": 2,
      "metadata": {
        "id": "RueiSeRnqtOt"
      },
      "outputs": [],
      "source": [
        "import numpy as np\n",
        "import pandas as pd\n",
        "import scipy as sp\n",
        "import sklearn as sk\n",
        "import os\n",
        "import tarfile\n",
        "import urllib\n",
        "\n",
        "import matplotlib.pyplot as plt\n",
        "import seaborn as sns\n",
        "import plotly.express as px\n",
        "import plotly.graph_objs as go\n",
        "from sklearn.model_selection import train_test_split\n",
        "from sklearn.model_selection import StratifiedShuffleSplit\n",
        "from sklearn.metrics import mean_squared_error\n",
        "from sklearn.metrics import r2_score\n",
        "from sklearn.model_selection import cross_val_score\n"
      ]
    },
    {
      "cell_type": "markdown",
      "source": [
        "### **Load the data**"
      ],
      "metadata": {
        "id": "sw1bwZi9uuY8"
      }
    },
    {
      "cell_type": "code",
      "source": [
        "flight = pd.read_csv(\"Flight_price.csv\")\n",
        "flight.head()"
      ],
      "metadata": {
        "id": "QTuZ_BGmutvM",
        "colab": {
          "base_uri": "https://localhost:8080/",
          "height": 340
        },
        "outputId": "67e6d877-5eae-4fd6-d61f-36c7efb6e3c0"
      },
      "execution_count": 3,
      "outputs": [
        {
          "output_type": "execute_result",
          "data": {
            "text/plain": [
              "   number   airline   flight source_city departure_time stops   arrival_time  \\\n",
              "0       0  SpiceJet  SG-8709       Delhi        Evening  zero          Night   \n",
              "1       1  SpiceJet  SG-8157       Delhi  Early_Morning  zero        Morning   \n",
              "2       2   AirAsia   I5-764       Delhi  Early_Morning  zero  Early_Morning   \n",
              "3       3   Vistara   UK-995       Delhi        Morning  zero      Afternoon   \n",
              "4       4   Vistara   UK-963       Delhi        Morning  zero        Morning   \n",
              "\n",
              "  destination_city    class  duration  lead_reservation  price  \n",
              "0           Mumbai  Economy      2.17                 1   5953  \n",
              "1           Mumbai  Economy      2.33                 1   5953  \n",
              "2           Mumbai  Economy      2.17                 1   5956  \n",
              "3           Mumbai  Economy      2.25                 1   5955  \n",
              "4           Mumbai  Economy      2.33                 1   5955  "
            ],
            "text/html": [
              "\n",
              "  <div id=\"df-5e6c371a-ced5-4b15-90e6-8dd31863a49c\">\n",
              "    <div class=\"colab-df-container\">\n",
              "      <div>\n",
              "<style scoped>\n",
              "    .dataframe tbody tr th:only-of-type {\n",
              "        vertical-align: middle;\n",
              "    }\n",
              "\n",
              "    .dataframe tbody tr th {\n",
              "        vertical-align: top;\n",
              "    }\n",
              "\n",
              "    .dataframe thead th {\n",
              "        text-align: right;\n",
              "    }\n",
              "</style>\n",
              "<table border=\"1\" class=\"dataframe\">\n",
              "  <thead>\n",
              "    <tr style=\"text-align: right;\">\n",
              "      <th></th>\n",
              "      <th>number</th>\n",
              "      <th>airline</th>\n",
              "      <th>flight</th>\n",
              "      <th>source_city</th>\n",
              "      <th>departure_time</th>\n",
              "      <th>stops</th>\n",
              "      <th>arrival_time</th>\n",
              "      <th>destination_city</th>\n",
              "      <th>class</th>\n",
              "      <th>duration</th>\n",
              "      <th>lead_reservation</th>\n",
              "      <th>price</th>\n",
              "    </tr>\n",
              "  </thead>\n",
              "  <tbody>\n",
              "    <tr>\n",
              "      <th>0</th>\n",
              "      <td>0</td>\n",
              "      <td>SpiceJet</td>\n",
              "      <td>SG-8709</td>\n",
              "      <td>Delhi</td>\n",
              "      <td>Evening</td>\n",
              "      <td>zero</td>\n",
              "      <td>Night</td>\n",
              "      <td>Mumbai</td>\n",
              "      <td>Economy</td>\n",
              "      <td>2.17</td>\n",
              "      <td>1</td>\n",
              "      <td>5953</td>\n",
              "    </tr>\n",
              "    <tr>\n",
              "      <th>1</th>\n",
              "      <td>1</td>\n",
              "      <td>SpiceJet</td>\n",
              "      <td>SG-8157</td>\n",
              "      <td>Delhi</td>\n",
              "      <td>Early_Morning</td>\n",
              "      <td>zero</td>\n",
              "      <td>Morning</td>\n",
              "      <td>Mumbai</td>\n",
              "      <td>Economy</td>\n",
              "      <td>2.33</td>\n",
              "      <td>1</td>\n",
              "      <td>5953</td>\n",
              "    </tr>\n",
              "    <tr>\n",
              "      <th>2</th>\n",
              "      <td>2</td>\n",
              "      <td>AirAsia</td>\n",
              "      <td>I5-764</td>\n",
              "      <td>Delhi</td>\n",
              "      <td>Early_Morning</td>\n",
              "      <td>zero</td>\n",
              "      <td>Early_Morning</td>\n",
              "      <td>Mumbai</td>\n",
              "      <td>Economy</td>\n",
              "      <td>2.17</td>\n",
              "      <td>1</td>\n",
              "      <td>5956</td>\n",
              "    </tr>\n",
              "    <tr>\n",
              "      <th>3</th>\n",
              "      <td>3</td>\n",
              "      <td>Vistara</td>\n",
              "      <td>UK-995</td>\n",
              "      <td>Delhi</td>\n",
              "      <td>Morning</td>\n",
              "      <td>zero</td>\n",
              "      <td>Afternoon</td>\n",
              "      <td>Mumbai</td>\n",
              "      <td>Economy</td>\n",
              "      <td>2.25</td>\n",
              "      <td>1</td>\n",
              "      <td>5955</td>\n",
              "    </tr>\n",
              "    <tr>\n",
              "      <th>4</th>\n",
              "      <td>4</td>\n",
              "      <td>Vistara</td>\n",
              "      <td>UK-963</td>\n",
              "      <td>Delhi</td>\n",
              "      <td>Morning</td>\n",
              "      <td>zero</td>\n",
              "      <td>Morning</td>\n",
              "      <td>Mumbai</td>\n",
              "      <td>Economy</td>\n",
              "      <td>2.33</td>\n",
              "      <td>1</td>\n",
              "      <td>5955</td>\n",
              "    </tr>\n",
              "  </tbody>\n",
              "</table>\n",
              "</div>\n",
              "      <button class=\"colab-df-convert\" onclick=\"convertToInteractive('df-5e6c371a-ced5-4b15-90e6-8dd31863a49c')\"\n",
              "              title=\"Convert this dataframe to an interactive table.\"\n",
              "              style=\"display:none;\">\n",
              "        \n",
              "  <svg xmlns=\"http://www.w3.org/2000/svg\" height=\"24px\"viewBox=\"0 0 24 24\"\n",
              "       width=\"24px\">\n",
              "    <path d=\"M0 0h24v24H0V0z\" fill=\"none\"/>\n",
              "    <path d=\"M18.56 5.44l.94 2.06.94-2.06 2.06-.94-2.06-.94-.94-2.06-.94 2.06-2.06.94zm-11 1L8.5 8.5l.94-2.06 2.06-.94-2.06-.94L8.5 2.5l-.94 2.06-2.06.94zm10 10l.94 2.06.94-2.06 2.06-.94-2.06-.94-.94-2.06-.94 2.06-2.06.94z\"/><path d=\"M17.41 7.96l-1.37-1.37c-.4-.4-.92-.59-1.43-.59-.52 0-1.04.2-1.43.59L10.3 9.45l-7.72 7.72c-.78.78-.78 2.05 0 2.83L4 21.41c.39.39.9.59 1.41.59.51 0 1.02-.2 1.41-.59l7.78-7.78 2.81-2.81c.8-.78.8-2.07 0-2.86zM5.41 20L4 18.59l7.72-7.72 1.47 1.35L5.41 20z\"/>\n",
              "  </svg>\n",
              "      </button>\n",
              "      \n",
              "  <style>\n",
              "    .colab-df-container {\n",
              "      display:flex;\n",
              "      flex-wrap:wrap;\n",
              "      gap: 12px;\n",
              "    }\n",
              "\n",
              "    .colab-df-convert {\n",
              "      background-color: #E8F0FE;\n",
              "      border: none;\n",
              "      border-radius: 50%;\n",
              "      cursor: pointer;\n",
              "      display: none;\n",
              "      fill: #1967D2;\n",
              "      height: 32px;\n",
              "      padding: 0 0 0 0;\n",
              "      width: 32px;\n",
              "    }\n",
              "\n",
              "    .colab-df-convert:hover {\n",
              "      background-color: #E2EBFA;\n",
              "      box-shadow: 0px 1px 2px rgba(60, 64, 67, 0.3), 0px 1px 3px 1px rgba(60, 64, 67, 0.15);\n",
              "      fill: #174EA6;\n",
              "    }\n",
              "\n",
              "    [theme=dark] .colab-df-convert {\n",
              "      background-color: #3B4455;\n",
              "      fill: #D2E3FC;\n",
              "    }\n",
              "\n",
              "    [theme=dark] .colab-df-convert:hover {\n",
              "      background-color: #434B5C;\n",
              "      box-shadow: 0px 1px 3px 1px rgba(0, 0, 0, 0.15);\n",
              "      filter: drop-shadow(0px 1px 2px rgba(0, 0, 0, 0.3));\n",
              "      fill: #FFFFFF;\n",
              "    }\n",
              "  </style>\n",
              "\n",
              "      <script>\n",
              "        const buttonEl =\n",
              "          document.querySelector('#df-5e6c371a-ced5-4b15-90e6-8dd31863a49c button.colab-df-convert');\n",
              "        buttonEl.style.display =\n",
              "          google.colab.kernel.accessAllowed ? 'block' : 'none';\n",
              "\n",
              "        async function convertToInteractive(key) {\n",
              "          const element = document.querySelector('#df-5e6c371a-ced5-4b15-90e6-8dd31863a49c');\n",
              "          const dataTable =\n",
              "            await google.colab.kernel.invokeFunction('convertToInteractive',\n",
              "                                                     [key], {});\n",
              "          if (!dataTable) return;\n",
              "\n",
              "          const docLinkHtml = 'Like what you see? Visit the ' +\n",
              "            '<a target=\"_blank\" href=https://colab.research.google.com/notebooks/data_table.ipynb>data table notebook</a>'\n",
              "            + ' to learn more about interactive tables.';\n",
              "          element.innerHTML = '';\n",
              "          dataTable['output_type'] = 'display_data';\n",
              "          await google.colab.output.renderOutput(dataTable, element);\n",
              "          const docLink = document.createElement('div');\n",
              "          docLink.innerHTML = docLinkHtml;\n",
              "          element.appendChild(docLink);\n",
              "        }\n",
              "      </script>\n",
              "    </div>\n",
              "  </div>\n",
              "  "
            ]
          },
          "metadata": {},
          "execution_count": 3
        }
      ]
    },
    {
      "cell_type": "markdown",
      "source": [
        "Take a 100,000 sample"
      ],
      "metadata": {
        "id": "xddlZ4Hq_rmx"
      }
    },
    {
      "cell_type": "code",
      "source": [
        "flight = flight.sample(n=5000, random_state=42)"
      ],
      "metadata": {
        "id": "IIjmbimI_rAZ"
      },
      "execution_count": 4,
      "outputs": []
    },
    {
      "cell_type": "markdown",
      "source": [
        "### **View data**"
      ],
      "metadata": {
        "id": "Rme_P7PwvReG"
      }
    },
    {
      "cell_type": "code",
      "source": [
        "flight.info()"
      ],
      "metadata": {
        "id": "ERoa4lgYvSCd",
        "colab": {
          "base_uri": "https://localhost:8080/"
        },
        "outputId": "6bd9383d-459d-42f3-d1d8-c9d08660e054"
      },
      "execution_count": 5,
      "outputs": [
        {
          "output_type": "stream",
          "name": "stdout",
          "text": [
            "<class 'pandas.core.frame.DataFrame'>\n",
            "Int64Index: 50000 entries, 27131 to 15601\n",
            "Data columns (total 12 columns):\n",
            " #   Column            Non-Null Count  Dtype  \n",
            "---  ------            --------------  -----  \n",
            " 0   number            50000 non-null  int64  \n",
            " 1   airline           50000 non-null  object \n",
            " 2   flight            50000 non-null  object \n",
            " 3   source_city       50000 non-null  object \n",
            " 4   departure_time    50000 non-null  object \n",
            " 5   stops             50000 non-null  object \n",
            " 6   arrival_time      50000 non-null  object \n",
            " 7   destination_city  50000 non-null  object \n",
            " 8   class             50000 non-null  object \n",
            " 9   duration          50000 non-null  float64\n",
            " 10  lead_reservation  50000 non-null  int64  \n",
            " 11  price             50000 non-null  int64  \n",
            "dtypes: float64(1), int64(3), object(8)\n",
            "memory usage: 5.0+ MB\n"
          ]
        }
      ]
    },
    {
      "cell_type": "code",
      "source": [
        "flight.describe()"
      ],
      "metadata": {
        "id": "lakpuVBavdx8",
        "colab": {
          "base_uri": "https://localhost:8080/",
          "height": 300
        },
        "outputId": "7a828e8c-e6d7-47b3-88ba-20bb39d106bf"
      },
      "execution_count": 6,
      "outputs": [
        {
          "output_type": "execute_result",
          "data": {
            "text/plain": [
              "             number      duration  lead_reservation          price\n",
              "count   50000.00000  50000.000000      50000.000000   50000.000000\n",
              "mean   150015.80588     12.245605         26.012500   20827.466020\n",
              "std     86528.55104      7.179290         13.531321   22658.672268\n",
              "min         0.00000      0.830000          1.000000    1105.000000\n",
              "25%     75307.50000      6.830000         15.000000    4784.000000\n",
              "50%    150187.50000     11.250000         26.000000    7424.000000\n",
              "75%    224778.25000     16.170000         38.000000   42521.000000\n",
              "max    300152.00000     47.750000         49.000000  114705.000000"
            ],
            "text/html": [
              "\n",
              "  <div id=\"df-fcf837af-3f1c-4437-a716-59cfe45ad0a8\">\n",
              "    <div class=\"colab-df-container\">\n",
              "      <div>\n",
              "<style scoped>\n",
              "    .dataframe tbody tr th:only-of-type {\n",
              "        vertical-align: middle;\n",
              "    }\n",
              "\n",
              "    .dataframe tbody tr th {\n",
              "        vertical-align: top;\n",
              "    }\n",
              "\n",
              "    .dataframe thead th {\n",
              "        text-align: right;\n",
              "    }\n",
              "</style>\n",
              "<table border=\"1\" class=\"dataframe\">\n",
              "  <thead>\n",
              "    <tr style=\"text-align: right;\">\n",
              "      <th></th>\n",
              "      <th>number</th>\n",
              "      <th>duration</th>\n",
              "      <th>lead_reservation</th>\n",
              "      <th>price</th>\n",
              "    </tr>\n",
              "  </thead>\n",
              "  <tbody>\n",
              "    <tr>\n",
              "      <th>count</th>\n",
              "      <td>50000.00000</td>\n",
              "      <td>50000.000000</td>\n",
              "      <td>50000.000000</td>\n",
              "      <td>50000.000000</td>\n",
              "    </tr>\n",
              "    <tr>\n",
              "      <th>mean</th>\n",
              "      <td>150015.80588</td>\n",
              "      <td>12.245605</td>\n",
              "      <td>26.012500</td>\n",
              "      <td>20827.466020</td>\n",
              "    </tr>\n",
              "    <tr>\n",
              "      <th>std</th>\n",
              "      <td>86528.55104</td>\n",
              "      <td>7.179290</td>\n",
              "      <td>13.531321</td>\n",
              "      <td>22658.672268</td>\n",
              "    </tr>\n",
              "    <tr>\n",
              "      <th>min</th>\n",
              "      <td>0.00000</td>\n",
              "      <td>0.830000</td>\n",
              "      <td>1.000000</td>\n",
              "      <td>1105.000000</td>\n",
              "    </tr>\n",
              "    <tr>\n",
              "      <th>25%</th>\n",
              "      <td>75307.50000</td>\n",
              "      <td>6.830000</td>\n",
              "      <td>15.000000</td>\n",
              "      <td>4784.000000</td>\n",
              "    </tr>\n",
              "    <tr>\n",
              "      <th>50%</th>\n",
              "      <td>150187.50000</td>\n",
              "      <td>11.250000</td>\n",
              "      <td>26.000000</td>\n",
              "      <td>7424.000000</td>\n",
              "    </tr>\n",
              "    <tr>\n",
              "      <th>75%</th>\n",
              "      <td>224778.25000</td>\n",
              "      <td>16.170000</td>\n",
              "      <td>38.000000</td>\n",
              "      <td>42521.000000</td>\n",
              "    </tr>\n",
              "    <tr>\n",
              "      <th>max</th>\n",
              "      <td>300152.00000</td>\n",
              "      <td>47.750000</td>\n",
              "      <td>49.000000</td>\n",
              "      <td>114705.000000</td>\n",
              "    </tr>\n",
              "  </tbody>\n",
              "</table>\n",
              "</div>\n",
              "      <button class=\"colab-df-convert\" onclick=\"convertToInteractive('df-fcf837af-3f1c-4437-a716-59cfe45ad0a8')\"\n",
              "              title=\"Convert this dataframe to an interactive table.\"\n",
              "              style=\"display:none;\">\n",
              "        \n",
              "  <svg xmlns=\"http://www.w3.org/2000/svg\" height=\"24px\"viewBox=\"0 0 24 24\"\n",
              "       width=\"24px\">\n",
              "    <path d=\"M0 0h24v24H0V0z\" fill=\"none\"/>\n",
              "    <path d=\"M18.56 5.44l.94 2.06.94-2.06 2.06-.94-2.06-.94-.94-2.06-.94 2.06-2.06.94zm-11 1L8.5 8.5l.94-2.06 2.06-.94-2.06-.94L8.5 2.5l-.94 2.06-2.06.94zm10 10l.94 2.06.94-2.06 2.06-.94-2.06-.94-.94-2.06-.94 2.06-2.06.94z\"/><path d=\"M17.41 7.96l-1.37-1.37c-.4-.4-.92-.59-1.43-.59-.52 0-1.04.2-1.43.59L10.3 9.45l-7.72 7.72c-.78.78-.78 2.05 0 2.83L4 21.41c.39.39.9.59 1.41.59.51 0 1.02-.2 1.41-.59l7.78-7.78 2.81-2.81c.8-.78.8-2.07 0-2.86zM5.41 20L4 18.59l7.72-7.72 1.47 1.35L5.41 20z\"/>\n",
              "  </svg>\n",
              "      </button>\n",
              "      \n",
              "  <style>\n",
              "    .colab-df-container {\n",
              "      display:flex;\n",
              "      flex-wrap:wrap;\n",
              "      gap: 12px;\n",
              "    }\n",
              "\n",
              "    .colab-df-convert {\n",
              "      background-color: #E8F0FE;\n",
              "      border: none;\n",
              "      border-radius: 50%;\n",
              "      cursor: pointer;\n",
              "      display: none;\n",
              "      fill: #1967D2;\n",
              "      height: 32px;\n",
              "      padding: 0 0 0 0;\n",
              "      width: 32px;\n",
              "    }\n",
              "\n",
              "    .colab-df-convert:hover {\n",
              "      background-color: #E2EBFA;\n",
              "      box-shadow: 0px 1px 2px rgba(60, 64, 67, 0.3), 0px 1px 3px 1px rgba(60, 64, 67, 0.15);\n",
              "      fill: #174EA6;\n",
              "    }\n",
              "\n",
              "    [theme=dark] .colab-df-convert {\n",
              "      background-color: #3B4455;\n",
              "      fill: #D2E3FC;\n",
              "    }\n",
              "\n",
              "    [theme=dark] .colab-df-convert:hover {\n",
              "      background-color: #434B5C;\n",
              "      box-shadow: 0px 1px 3px 1px rgba(0, 0, 0, 0.15);\n",
              "      filter: drop-shadow(0px 1px 2px rgba(0, 0, 0, 0.3));\n",
              "      fill: #FFFFFF;\n",
              "    }\n",
              "  </style>\n",
              "\n",
              "      <script>\n",
              "        const buttonEl =\n",
              "          document.querySelector('#df-fcf837af-3f1c-4437-a716-59cfe45ad0a8 button.colab-df-convert');\n",
              "        buttonEl.style.display =\n",
              "          google.colab.kernel.accessAllowed ? 'block' : 'none';\n",
              "\n",
              "        async function convertToInteractive(key) {\n",
              "          const element = document.querySelector('#df-fcf837af-3f1c-4437-a716-59cfe45ad0a8');\n",
              "          const dataTable =\n",
              "            await google.colab.kernel.invokeFunction('convertToInteractive',\n",
              "                                                     [key], {});\n",
              "          if (!dataTable) return;\n",
              "\n",
              "          const docLinkHtml = 'Like what you see? Visit the ' +\n",
              "            '<a target=\"_blank\" href=https://colab.research.google.com/notebooks/data_table.ipynb>data table notebook</a>'\n",
              "            + ' to learn more about interactive tables.';\n",
              "          element.innerHTML = '';\n",
              "          dataTable['output_type'] = 'display_data';\n",
              "          await google.colab.output.renderOutput(dataTable, element);\n",
              "          const docLink = document.createElement('div');\n",
              "          docLink.innerHTML = docLinkHtml;\n",
              "          element.appendChild(docLink);\n",
              "        }\n",
              "      </script>\n",
              "    </div>\n",
              "  </div>\n",
              "  "
            ]
          },
          "metadata": {},
          "execution_count": 6
        }
      ]
    },
    {
      "cell_type": "code",
      "source": [
        "flight.shape"
      ],
      "metadata": {
        "id": "r2PlTi0SvowC",
        "colab": {
          "base_uri": "https://localhost:8080/"
        },
        "outputId": "626b4457-cf1e-4d91-9793-367a7c8cb964"
      },
      "execution_count": 7,
      "outputs": [
        {
          "output_type": "execute_result",
          "data": {
            "text/plain": [
              "(50000, 12)"
            ]
          },
          "metadata": {},
          "execution_count": 7
        }
      ]
    },
    {
      "cell_type": "markdown",
      "source": [
        "**Check number of null values**"
      ],
      "metadata": {
        "id": "6ULH1VR4vxor"
      }
    },
    {
      "cell_type": "code",
      "source": [
        "flight.isnull().sum()"
      ],
      "metadata": {
        "id": "oaOIidPVvsOy",
        "colab": {
          "base_uri": "https://localhost:8080/"
        },
        "outputId": "b4ec21fb-d2b6-422b-ff5a-d4f983403cd5"
      },
      "execution_count": 8,
      "outputs": [
        {
          "output_type": "execute_result",
          "data": {
            "text/plain": [
              "number              0\n",
              "airline             0\n",
              "flight              0\n",
              "source_city         0\n",
              "departure_time      0\n",
              "stops               0\n",
              "arrival_time        0\n",
              "destination_city    0\n",
              "class               0\n",
              "duration            0\n",
              "lead_reservation    0\n",
              "price               0\n",
              "dtype: int64"
            ]
          },
          "metadata": {},
          "execution_count": 8
        }
      ]
    },
    {
      "cell_type": "markdown",
      "source": [
        "Check duplicates "
      ],
      "metadata": {
        "id": "efxFetLtwB3L"
      }
    },
    {
      "cell_type": "code",
      "source": [
        "flight.duplicated().sum()"
      ],
      "metadata": {
        "id": "5wZPPsydv8p0",
        "colab": {
          "base_uri": "https://localhost:8080/"
        },
        "outputId": "6a057988-449d-4057-8d01-0d1427846381"
      },
      "execution_count": 9,
      "outputs": [
        {
          "output_type": "execute_result",
          "data": {
            "text/plain": [
              "0"
            ]
          },
          "metadata": {},
          "execution_count": 9
        }
      ]
    },
    {
      "cell_type": "markdown",
      "source": [
        "number of unique data for each feature"
      ],
      "metadata": {
        "id": "1WKsNVAJwTua"
      }
    },
    {
      "cell_type": "code",
      "source": [
        "flight.nunique()"
      ],
      "metadata": {
        "id": "2tn-cBYWwJbA",
        "colab": {
          "base_uri": "https://localhost:8080/"
        },
        "outputId": "cfbd1a64-df30-462f-f1aa-3b75337fc870"
      },
      "execution_count": 10,
      "outputs": [
        {
          "output_type": "execute_result",
          "data": {
            "text/plain": [
              "number              50000\n",
              "airline                 6\n",
              "flight               1438\n",
              "source_city             6\n",
              "departure_time          6\n",
              "stops                   3\n",
              "arrival_time            6\n",
              "destination_city        6\n",
              "class                   2\n",
              "duration              432\n",
              "lead_reservation       49\n",
              "price                6648\n",
              "dtype: int64"
            ]
          },
          "metadata": {},
          "execution_count": 10
        }
      ]
    },
    {
      "cell_type": "markdown",
      "source": [
        "As we understand from the result above, the \"number\" column is an index since its unique values are just like the size of our dataset, which is 300153.\n",
        "So, it will be dropped from our dataset."
      ],
      "metadata": {
        "id": "b-QgWZpmwgdO"
      }
    },
    {
      "cell_type": "code",
      "source": [
        "flight.drop([\"number\"], axis=1, inplace=True)"
      ],
      "metadata": {
        "id": "Qt-L5MFHwe28"
      },
      "execution_count": 11,
      "outputs": []
    },
    {
      "cell_type": "code",
      "source": [
        "flight.drop([\"flight\"], axis=1, inplace=True)"
      ],
      "metadata": {
        "id": "eW6zvZtu9EDI"
      },
      "execution_count": 12,
      "outputs": []
    },
    {
      "cell_type": "code",
      "source": [
        "flight.shape"
      ],
      "metadata": {
        "id": "OX8hT8t-x8gf",
        "colab": {
          "base_uri": "https://localhost:8080/"
        },
        "outputId": "65cb7e5a-2dd2-4dfb-c83a-585c87298cf6"
      },
      "execution_count": 13,
      "outputs": [
        {
          "output_type": "execute_result",
          "data": {
            "text/plain": [
              "(50000, 10)"
            ]
          },
          "metadata": {},
          "execution_count": 13
        }
      ]
    },
    {
      "cell_type": "markdown",
      "source": [
        "convert price from int to float"
      ],
      "metadata": {
        "id": "cGsAMz5A5CAt"
      }
    },
    {
      "cell_type": "code",
      "source": [
        "flight['price'] = flight['price'].astype(float)"
      ],
      "metadata": {
        "id": "PPz3R2oJ5A7d"
      },
      "execution_count": 14,
      "outputs": []
    },
    {
      "cell_type": "markdown",
      "source": [
        "**Detect and Remove outliers** "
      ],
      "metadata": {
        "id": "vu-YkZlH5Pla"
      }
    },
    {
      "cell_type": "code",
      "source": [
        "flight.info()"
      ],
      "metadata": {
        "id": "xt3inf3mPqIW",
        "outputId": "49ebca54-9f6f-4392-f4ef-d8e0ed2f8363",
        "colab": {
          "base_uri": "https://localhost:8080/"
        }
      },
      "execution_count": 15,
      "outputs": [
        {
          "output_type": "stream",
          "name": "stdout",
          "text": [
            "<class 'pandas.core.frame.DataFrame'>\n",
            "Int64Index: 50000 entries, 27131 to 15601\n",
            "Data columns (total 10 columns):\n",
            " #   Column            Non-Null Count  Dtype  \n",
            "---  ------            --------------  -----  \n",
            " 0   airline           50000 non-null  object \n",
            " 1   source_city       50000 non-null  object \n",
            " 2   departure_time    50000 non-null  object \n",
            " 3   stops             50000 non-null  object \n",
            " 4   arrival_time      50000 non-null  object \n",
            " 5   destination_city  50000 non-null  object \n",
            " 6   class             50000 non-null  object \n",
            " 7   duration          50000 non-null  float64\n",
            " 8   lead_reservation  50000 non-null  int64  \n",
            " 9   price             50000 non-null  float64\n",
            "dtypes: float64(2), int64(1), object(7)\n",
            "memory usage: 4.2+ MB\n"
          ]
        }
      ]
    },
    {
      "cell_type": "code",
      "source": [
        "# Create a figure and axes for box plots\n",
        "fig, axs = plt.subplots(nrows=1, ncols=3, figsize=(20,5))\n",
        "\n",
        "# Draw box plots for each feature\n",
        "sns.boxplot(x=flight['price'], ax=axs[0])\n",
        "sns.boxplot(x=flight['duration'], ax=axs[1])\n",
        "sns.boxplot(x=flight['lead_reservation'], ax=axs[2])"
      ],
      "metadata": {
        "id": "Jn3tBrTmzKaq",
        "outputId": "43b42842-436e-4490-99c5-b6ee8eff5526",
        "colab": {
          "base_uri": "https://localhost:8080/",
          "height": 273
        }
      },
      "execution_count": 16,
      "outputs": [
        {
          "output_type": "execute_result",
          "data": {
            "text/plain": [
              "<Axes: xlabel='lead_reservation'>"
            ]
          },
          "metadata": {},
          "execution_count": 16
        },
        {
          "output_type": "display_data",
          "data": {
            "text/plain": [
              "<Figure size 2000x500 with 3 Axes>"
            ],
            "image/png": "[encoded data removed]"
          },
          "metadata": {}
        }
      ]
    },
    {
      "cell_type": "code",
      "source": [
        "Q1 = flight.quantile(0.25)\n",
        "Q3 = flight.quantile(0.75)\n",
        "IQR = Q3 - Q1\n",
        "flight = flight[~((flight < (Q1 - 1.5 * IQR)) |(flight > (Q3 + 1.5 * IQR))).any(axis=1)]"
      ],
      "metadata": {
        "id": "YdM7NEjfEbWr",
        "outputId": "8f5c1bd3-a6ca-4ebb-ede4-5d03b80d868a",
        "colab": {
          "base_uri": "https://localhost:8080/"
        }
      },
      "execution_count": 17,
      "outputs": [
        {
          "output_type": "stream",
          "name": "stderr",
          "text": [
            "<ipython-input-17-63ea7a9fe649>:1: FutureWarning: The default value of numeric_only in DataFrame.quantile is deprecated. In a future version, it will default to False. Select only valid columns or specify the value of numeric_only to silence this warning.\n",
            "  Q1 = flight.quantile(0.25)\n",
            "<ipython-input-17-63ea7a9fe649>:2: FutureWarning: The default value of numeric_only in DataFrame.quantile is deprecated. In a future version, it will default to False. Select only valid columns or specify the value of numeric_only to silence this warning.\n",
            "  Q3 = flight.quantile(0.75)\n",
            "<ipython-input-17-63ea7a9fe649>:4: FutureWarning: Automatic reindexing on DataFrame vs Series comparisons is deprecated and will raise ValueError in a future version. Do `left, right = left.align(right, axis=1, copy=False)` before e.g. `left == right`\n",
            "  flight = flight[~((flight < (Q1 - 1.5 * IQR)) |(flight > (Q3 + 1.5 * IQR))).any(axis=1)]\n"
          ]
        }
      ]
    },
    {
      "cell_type": "code",
      "source": [
        "# Create a figure and axes for box plots\n",
        "fig, axs = plt.subplots(nrows=1, ncols=3, figsize=(20,5))\n",
        "\n",
        "# Draw box plots for each feature\n",
        "sns.boxplot(x=flight['price'], ax=axs[0])\n",
        "sns.boxplot(x=flight['duration'], ax=axs[1])\n",
        "sns.boxplot(x=flight['lead_reservation'], ax=axs[2])"
      ],
      "metadata": {
        "id": "MbUAR1ShEia7",
        "outputId": "01b5737d-4f98-4e20-a5d7-b5a8313eecc1",
        "colab": {
          "base_uri": "https://localhost:8080/",
          "height": 273
        }
      },
      "execution_count": 18,
      "outputs": [
        {
          "output_type": "execute_result",
          "data": {
            "text/plain": [
              "<Axes: xlabel='lead_reservation'>"
            ]
          },
          "metadata": {},
          "execution_count": 18
        },
        {
          "output_type": "display_data",
          "data": {
            "text/plain": [
              "<Figure size 2000x500 with 3 Axes>"
            ],
            "image/png": "[encoded data removed]"
          },
          "metadata": {}
        }
      ]
    },
    {
      "cell_type": "code",
      "source": [
        "flight.info()"
      ],
      "metadata": {
        "id": "AGGWIXZkDwYF",
        "colab": {
          "base_uri": "https://localhost:8080/"
        },
        "outputId": "ae388368-aedf-4cb2-eba8-0bfec71f903c"
      },
      "execution_count": 19,
      "outputs": [
        {
          "output_type": "stream",
          "name": "stdout",
          "text": [
            "<class 'pandas.core.frame.DataFrame'>\n",
            "Int64Index: 49623 entries, 27131 to 15601\n",
            "Data columns (total 10 columns):\n",
            " #   Column            Non-Null Count  Dtype  \n",
            "---  ------            --------------  -----  \n",
            " 0   airline           49623 non-null  object \n",
            " 1   source_city       49623 non-null  object \n",
            " 2   departure_time    49623 non-null  object \n",
            " 3   stops             49623 non-null  object \n",
            " 4   arrival_time      49623 non-null  object \n",
            " 5   destination_city  49623 non-null  object \n",
            " 6   class             49623 non-null  object \n",
            " 7   duration          49623 non-null  float64\n",
            " 8   lead_reservation  49623 non-null  int64  \n",
            " 9   price             49623 non-null  float64\n",
            "dtypes: float64(2), int64(1), object(7)\n",
            "memory usage: 4.2+ MB\n"
          ]
        }
      ]
    },
    {
      "cell_type": "code",
      "source": [
        "flight_dumm = pd.get_dummies(flight)\n",
        "flight= pd.concat([flight_dumm], axis=1)\n",
        "print(flight_dumm)"
      ],
      "metadata": {
        "id": "Q6X0f1Nz6IK-",
        "colab": {
          "base_uri": "https://localhost:8080/"
        },
        "outputId": "effe6356-6d4c-47f3-8ec9-c56576ec3f59"
      },
      "execution_count": 20,
      "outputs": [
        {
          "output_type": "stream",
          "name": "stdout",
          "text": [
            "        duration  lead_reservation    price  airline_AirAsia  \\\n",
            "27131      19.75                40   7366.0                0   \n",
            "266857      9.83                42  64831.0                0   \n",
            "141228     10.50                41   6195.0                0   \n",
            "288329     14.50                14  60160.0                0   \n",
            "97334       8.25                20   6578.0                0   \n",
            "...          ...               ...      ...              ...   \n",
            "50691      14.25                39   5828.0                0   \n",
            "22037      16.00                13   5954.0                0   \n",
            "233495     16.33                41  85744.0                0   \n",
            "107611     14.42                35   7978.0                0   \n",
            "15601       5.58                29   3671.0                0   \n",
            "\n",
            "        airline_Air_India  airline_GO_FIRST  airline_Indigo  airline_SpiceJet  \\\n",
            "27131                   1                 0               0                 0   \n",
            "266857                  0                 0               0                 0   \n",
            "141228                  0                 0               0                 0   \n",
            "288329                  0                 0               0                 0   \n",
            "97334                   1                 0               0                 0   \n",
            "...                   ...               ...             ...               ...   \n",
            "50691                   1                 0               0                 0   \n",
            "22037                   0                 1               0                 0   \n",
            "233495                  0                 0               0                 0   \n",
            "107611                  0                 1               0                 0   \n",
            "15601                   0                 0               1                 0   \n",
            "\n",
            "        airline_Vistara  source_city_Bangalore  ...  arrival_time_Morning  \\\n",
            "27131                 0                      0  ...                     0   \n",
            "266857                1                      0  ...                     0   \n",
            "141228                1                      0  ...                     0   \n",
            "288329                1                      0  ...                     1   \n",
            "97334                 0                      1  ...                     0   \n",
            "...                 ...                    ...  ...                   ...   \n",
            "50691                 0                      0  ...                     0   \n",
            "22037                 0                      0  ...                     1   \n",
            "233495                1                      0  ...                     1   \n",
            "107611                0                      1  ...                     0   \n",
            "15601                 0                      0  ...                     0   \n",
            "\n",
            "        arrival_time_Night  destination_city_Bangalore  \\\n",
            "27131                    0                           0   \n",
            "266857                   1                           0   \n",
            "141228                   1                           1   \n",
            "288329                   0                           0   \n",
            "97334                    1                           0   \n",
            "...                    ...                         ...   \n",
            "50691                    0                           0   \n",
            "22037                    0                           0   \n",
            "233495                   0                           1   \n",
            "107611                   1                           0   \n",
            "15601                    0                           1   \n",
            "\n",
            "        destination_city_Chennai  destination_city_Delhi  \\\n",
            "27131                          0                       0   \n",
            "266857                         0                       0   \n",
            "141228                         0                       0   \n",
            "288329                         0                       1   \n",
            "97334                          0                       0   \n",
            "...                          ...                     ...   \n",
            "50691                          0                       1   \n",
            "22037                          0                       0   \n",
            "233495                         0                       0   \n",
            "107611                         0                       0   \n",
            "15601                          0                       0   \n",
            "\n",
            "        destination_city_Hyderabad  destination_city_Kolkata  \\\n",
            "27131                            0                         1   \n",
            "266857                           0                         0   \n",
            "141228                           0                         0   \n",
            "288329                           0                         0   \n",
            "97334                            0                         0   \n",
            "...                            ...                       ...   \n",
            "50691                            0                         0   \n",
            "22037                            0                         1   \n",
            "233495                           0                         0   \n",
            "107611                           0                         1   \n",
            "15601                            0                         0   \n",
            "\n",
            "        destination_city_Mumbai  class_Business  class_Economy  \n",
            "27131                         0               0              1  \n",
            "266857                        1               1              0  \n",
            "141228                        0               0              1  \n",
            "288329                        0               1              0  \n",
            "97334                         1               0              1  \n",
            "...                         ...             ...            ...  \n",
            "50691                         0               0              1  \n",
            "22037                         0               0              1  \n",
            "233495                        0               1              0  \n",
            "107611                        0               0              1  \n",
            "15601                         0               0              1  \n",
            "\n",
            "[49623 rows x 38 columns]\n"
          ]
        }
      ]
    },
    {
      "cell_type": "code",
      "source": [
        "flight.info()"
      ],
      "metadata": {
        "id": "t5VJ8NI7BN4C",
        "colab": {
          "base_uri": "https://localhost:8080/"
        },
        "outputId": "c3e29235-ea8e-4764-d584-fe0314ae5267"
      },
      "execution_count": 21,
      "outputs": [
        {
          "output_type": "stream",
          "name": "stdout",
          "text": [
            "<class 'pandas.core.frame.DataFrame'>\n",
            "Int64Index: 49623 entries, 27131 to 15601\n",
            "Data columns (total 38 columns):\n",
            " #   Column                        Non-Null Count  Dtype  \n",
            "---  ------                        --------------  -----  \n",
            " 0   duration                      49623 non-null  float64\n",
            " 1   lead_reservation              49623 non-null  int64  \n",
            " 2   price                         49623 non-null  float64\n",
            " 3   airline_AirAsia               49623 non-null  uint8  \n",
            " 4   airline_Air_India             49623 non-null  uint8  \n",
            " 5   airline_GO_FIRST              49623 non-null  uint8  \n",
            " 6   airline_Indigo                49623 non-null  uint8  \n",
            " 7   airline_SpiceJet              49623 non-null  uint8  \n",
            " 8   airline_Vistara               49623 non-null  uint8  \n",
            " 9   source_city_Bangalore         49623 non-null  uint8  \n",
            " 10  source_city_Chennai           49623 non-null  uint8  \n",
            " 11  source_city_Delhi             49623 non-null  uint8  \n",
            " 12  source_city_Hyderabad         49623 non-null  uint8  \n",
            " 13  source_city_Kolkata           49623 non-null  uint8  \n",
            " 14  source_city_Mumbai            49623 non-null  uint8  \n",
            " 15  departure_time_Afternoon      49623 non-null  uint8  \n",
            " 16  departure_time_Early_Morning  49623 non-null  uint8  \n",
            " 17  departure_time_Evening        49623 non-null  uint8  \n",
            " 18  departure_time_Late_Night     49623 non-null  uint8  \n",
            " 19  departure_time_Morning        49623 non-null  uint8  \n",
            " 20  departure_time_Night          49623 non-null  uint8  \n",
            " 21  stops_one                     49623 non-null  uint8  \n",
            " 22  stops_two_or_more             49623 non-null  uint8  \n",
            " 23  stops_zero                    49623 non-null  uint8  \n",
            " 24  arrival_time_Afternoon        49623 non-null  uint8  \n",
            " 25  arrival_time_Early_Morning    49623 non-null  uint8  \n",
            " 26  arrival_time_Evening          49623 non-null  uint8  \n",
            " 27  arrival_time_Late_Night       49623 non-null  uint8  \n",
            " 28  arrival_time_Morning          49623 non-null  uint8  \n",
            " 29  arrival_time_Night            49623 non-null  uint8  \n",
            " 30  destination_city_Bangalore    49623 non-null  uint8  \n",
            " 31  destination_city_Chennai      49623 non-null  uint8  \n",
            " 32  destination_city_Delhi        49623 non-null  uint8  \n",
            " 33  destination_city_Hyderabad    49623 non-null  uint8  \n",
            " 34  destination_city_Kolkata      49623 non-null  uint8  \n",
            " 35  destination_city_Mumbai       49623 non-null  uint8  \n",
            " 36  class_Business                49623 non-null  uint8  \n",
            " 37  class_Economy                 49623 non-null  uint8  \n",
            "dtypes: float64(2), int64(1), uint8(35)\n",
            "memory usage: 3.2 MB\n"
          ]
        }
      ]
    },
    {
      "cell_type": "code",
      "source": [
        "flight.head()"
      ],
      "metadata": {
        "id": "8EyDjQ_INEkP",
        "colab": {
          "base_uri": "https://localhost:8080/",
          "height": 300
        },
        "outputId": "f9871f8d-9452-4db1-bc5b-652beff8c34e"
      },
      "execution_count": 22,
      "outputs": [
        {
          "output_type": "execute_result",
          "data": {
            "text/plain": [
              "        duration  lead_reservation    price  airline_AirAsia  \\\n",
              "27131      19.75                40   7366.0                0   \n",
              "266857      9.83                42  64831.0                0   \n",
              "141228     10.50                41   6195.0                0   \n",
              "288329     14.50                14  60160.0                0   \n",
              "97334       8.25                20   6578.0                0   \n",
              "\n",
              "        airline_Air_India  airline_GO_FIRST  airline_Indigo  airline_SpiceJet  \\\n",
              "27131                   1                 0               0                 0   \n",
              "266857                  0                 0               0                 0   \n",
              "141228                  0                 0               0                 0   \n",
              "288329                  0                 0               0                 0   \n",
              "97334                   1                 0               0                 0   \n",
              "\n",
              "        airline_Vistara  source_city_Bangalore  ...  arrival_time_Morning  \\\n",
              "27131                 0                      0  ...                     0   \n",
              "266857                1                      0  ...                     0   \n",
              "141228                1                      0  ...                     0   \n",
              "288329                1                      0  ...                     1   \n",
              "97334                 0                      1  ...                     0   \n",
              "\n",
              "        arrival_time_Night  destination_city_Bangalore  \\\n",
              "27131                    0                           0   \n",
              "266857                   1                           0   \n",
              "141228                   1                           1   \n",
              "288329                   0                           0   \n",
              "97334                    1                           0   \n",
              "\n",
              "        destination_city_Chennai  destination_city_Delhi  \\\n",
              "27131                          0                       0   \n",
              "266857                         0                       0   \n",
              "141228                         0                       0   \n",
              "288329                         0                       1   \n",
              "97334                          0                       0   \n",
              "\n",
              "        destination_city_Hyderabad  destination_city_Kolkata  \\\n",
              "27131                            0                         1   \n",
              "266857                           0                         0   \n",
              "141228                           0                         0   \n",
              "288329                           0                         0   \n",
              "97334                            0                         0   \n",
              "\n",
              "        destination_city_Mumbai  class_Business  class_Economy  \n",
              "27131                         0               0              1  \n",
              "266857                        1               1              0  \n",
              "141228                        0               0              1  \n",
              "288329                        0               1              0  \n",
              "97334                         1               0              1  \n",
              "\n",
              "[5 rows x 38 columns]"
            ],
            "text/html": [
              "\n",
              "  <div id=\"df-312ff5a5-d223-4822-a0b4-e54e9452043a\">\n",
              "    <div class=\"colab-df-container\">\n",
              "      <div>\n",
              "<style scoped>\n",
              "    .dataframe tbody tr th:only-of-type {\n",
              "        vertical-align: middle;\n",
              "    }\n",
              "\n",
              "    .dataframe tbody tr th {\n",
              "        vertical-align: top;\n",
              "    }\n",
              "\n",
              "    .dataframe thead th {\n",
              "        text-align: right;\n",
              "    }\n",
              "</style>\n",
              "<table border=\"1\" class=\"dataframe\">\n",
              "  <thead>\n",
              "    <tr style=\"text-align: right;\">\n",
              "      <th></th>\n",
              "      <th>duration</th>\n",
              "      <th>lead_reservation</th>\n",
              "      <th>price</th>\n",
              "      <th>airline_AirAsia</th>\n",
              "      <th>airline_Air_India</th>\n",
              "      <th>airline_GO_FIRST</th>\n",
              "      <th>airline_Indigo</th>\n",
              "      <th>airline_SpiceJet</th>\n",
              "      <th>airline_Vistara</th>\n",
              "      <th>source_city_Bangalore</th>\n",
              "      <th>...</th>\n",
              "      <th>arrival_time_Morning</th>\n",
              "      <th>arrival_time_Night</th>\n",
              "      <th>destination_city_Bangalore</th>\n",
              "      <th>destination_city_Chennai</th>\n",
              "      <th>destination_city_Delhi</th>\n",
              "      <th>destination_city_Hyderabad</th>\n",
              "      <th>destination_city_Kolkata</th>\n",
              "      <th>destination_city_Mumbai</th>\n",
              "      <th>class_Business</th>\n",
              "      <th>class_Economy</th>\n",
              "    </tr>\n",
              "  </thead>\n",
              "  <tbody>\n",
              "    <tr>\n",
              "      <th>27131</th>\n",
              "      <td>19.75</td>\n",
              "      <td>40</td>\n",
              "      <td>7366.0</td>\n",
              "      <td>0</td>\n",
              "      <td>1</td>\n",
              "      <td>0</td>\n",
              "      <td>0</td>\n",
              "      <td>0</td>\n",
              "      <td>0</td>\n",
              "      <td>0</td>\n",
              "      <td>...</td>\n",
              "      <td>0</td>\n",
              "      <td>0</td>\n",
              "      <td>0</td>\n",
              "      <td>0</td>\n",
              "      <td>0</td>\n",
              "      <td>0</td>\n",
              "      <td>1</td>\n",
              "      <td>0</td>\n",
              "      <td>0</td>\n",
              "      <td>1</td>\n",
              "    </tr>\n",
              "    <tr>\n",
              "      <th>266857</th>\n",
              "      <td>9.83</td>\n",
              "      <td>42</td>\n",
              "      <td>64831.0</td>\n",
              "      <td>0</td>\n",
              "      <td>0</td>\n",
              "      <td>0</td>\n",
              "      <td>0</td>\n",
              "      <td>0</td>\n",
              "      <td>1</td>\n",
              "      <td>0</td>\n",
              "      <td>...</td>\n",
              "      <td>0</td>\n",
              "      <td>1</td>\n",
              "      <td>0</td>\n",
              "      <td>0</td>\n",
              "      <td>0</td>\n",
              "      <td>0</td>\n",
              "      <td>0</td>\n",
              "      <td>1</td>\n",
              "      <td>1</td>\n",
              "      <td>0</td>\n",
              "    </tr>\n",
              "    <tr>\n",
              "      <th>141228</th>\n",
              "      <td>10.50</td>\n",
              "      <td>41</td>\n",
              "      <td>6195.0</td>\n",
              "      <td>0</td>\n",
              "      <td>0</td>\n",
              "      <td>0</td>\n",
              "      <td>0</td>\n",
              "      <td>0</td>\n",
              "      <td>1</td>\n",
              "      <td>0</td>\n",
              "      <td>...</td>\n",
              "      <td>0</td>\n",
              "      <td>1</td>\n",
              "      <td>1</td>\n",
              "      <td>0</td>\n",
              "      <td>0</td>\n",
              "      <td>0</td>\n",
              "      <td>0</td>\n",
              "      <td>0</td>\n",
              "      <td>0</td>\n",
              "      <td>1</td>\n",
              "    </tr>\n",
              "    <tr>\n",
              "      <th>288329</th>\n",
              "      <td>14.50</td>\n",
              "      <td>14</td>\n",
              "      <td>60160.0</td>\n",
              "      <td>0</td>\n",
              "      <td>0</td>\n",
              "      <td>0</td>\n",
              "      <td>0</td>\n",
              "      <td>0</td>\n",
              "      <td>1</td>\n",
              "      <td>0</td>\n",
              "      <td>...</td>\n",
              "      <td>1</td>\n",
              "      <td>0</td>\n",
              "      <td>0</td>\n",
              "      <td>0</td>\n",
              "      <td>1</td>\n",
              "      <td>0</td>\n",
              "      <td>0</td>\n",
              "      <td>0</td>\n",
              "      <td>1</td>\n",
              "      <td>0</td>\n",
              "    </tr>\n",
              "    <tr>\n",
              "      <th>97334</th>\n",
              "      <td>8.25</td>\n",
              "      <td>20</td>\n",
              "      <td>6578.0</td>\n",
              "      <td>0</td>\n",
              "      <td>1</td>\n",
              "      <td>0</td>\n",
              "      <td>0</td>\n",
              "      <td>0</td>\n",
              "      <td>0</td>\n",
              "      <td>1</td>\n",
              "      <td>...</td>\n",
              "      <td>0</td>\n",
              "      <td>1</td>\n",
              "      <td>0</td>\n",
              "      <td>0</td>\n",
              "      <td>0</td>\n",
              "      <td>0</td>\n",
              "      <td>0</td>\n",
              "      <td>1</td>\n",
              "      <td>0</td>\n",
              "      <td>1</td>\n",
              "    </tr>\n",
              "  </tbody>\n",
              "</table>\n",
              "<p>5 rows × 38 columns</p>\n",
              "</div>\n",
              "      <button class=\"colab-df-convert\" onclick=\"convertToInteractive('df-312ff5a5-d223-4822-a0b4-e54e9452043a')\"\n",
              "              title=\"Convert this dataframe to an interactive table.\"\n",
              "              style=\"display:none;\">\n",
              "        \n",
              "  <svg xmlns=\"http://www.w3.org/2000/svg\" height=\"24px\"viewBox=\"0 0 24 24\"\n",
              "       width=\"24px\">\n",
              "    <path d=\"M0 0h24v24H0V0z\" fill=\"none\"/>\n",
              "    <path d=\"M18.56 5.44l.94 2.06.94-2.06 2.06-.94-2.06-.94-.94-2.06-.94 2.06-2.06.94zm-11 1L8.5 8.5l.94-2.06 2.06-.94-2.06-.94L8.5 2.5l-.94 2.06-2.06.94zm10 10l.94 2.06.94-2.06 2.06-.94-2.06-.94-.94-2.06-.94 2.06-2.06.94z\"/><path d=\"M17.41 7.96l-1.37-1.37c-.4-.4-.92-.59-1.43-.59-.52 0-1.04.2-1.43.59L10.3 9.45l-7.72 7.72c-.78.78-.78 2.05 0 2.83L4 21.41c.39.39.9.59 1.41.59.51 0 1.02-.2 1.41-.59l7.78-7.78 2.81-2.81c.8-.78.8-2.07 0-2.86zM5.41 20L4 18.59l7.72-7.72 1.47 1.35L5.41 20z\"/>\n",
              "  </svg>\n",
              "      </button>\n",
              "      \n",
              "  <style>\n",
              "    .colab-df-container {\n",
              "      display:flex;\n",
              "      flex-wrap:wrap;\n",
              "      gap: 12px;\n",
              "    }\n",
              "\n",
              "    .colab-df-convert {\n",
              "      background-color: #E8F0FE;\n",
              "      border: none;\n",
              "      border-radius: 50%;\n",
              "      cursor: pointer;\n",
              "      display: none;\n",
              "      fill: #1967D2;\n",
              "      height: 32px;\n",
              "      padding: 0 0 0 0;\n",
              "      width: 32px;\n",
              "    }\n",
              "\n",
              "    .colab-df-convert:hover {\n",
              "      background-color: #E2EBFA;\n",
              "      box-shadow: 0px 1px 2px rgba(60, 64, 67, 0.3), 0px 1px 3px 1px rgba(60, 64, 67, 0.15);\n",
              "      fill: #174EA6;\n",
              "    }\n",
              "\n",
              "    [theme=dark] .colab-df-convert {\n",
              "      background-color: #3B4455;\n",
              "      fill: #D2E3FC;\n",
              "    }\n",
              "\n",
              "    [theme=dark] .colab-df-convert:hover {\n",
              "      background-color: #434B5C;\n",
              "      box-shadow: 0px 1px 3px 1px rgba(0, 0, 0, 0.15);\n",
              "      filter: drop-shadow(0px 1px 2px rgba(0, 0, 0, 0.3));\n",
              "      fill: #FFFFFF;\n",
              "    }\n",
              "  </style>\n",
              "\n",
              "      <script>\n",
              "        const buttonEl =\n",
              "          document.querySelector('#df-312ff5a5-d223-4822-a0b4-e54e9452043a button.colab-df-convert');\n",
              "        buttonEl.style.display =\n",
              "          google.colab.kernel.accessAllowed ? 'block' : 'none';\n",
              "\n",
              "        async function convertToInteractive(key) {\n",
              "          const element = document.querySelector('#df-312ff5a5-d223-4822-a0b4-e54e9452043a');\n",
              "          const dataTable =\n",
              "            await google.colab.kernel.invokeFunction('convertToInteractive',\n",
              "                                                     [key], {});\n",
              "          if (!dataTable) return;\n",
              "\n",
              "          const docLinkHtml = 'Like what you see? Visit the ' +\n",
              "            '<a target=\"_blank\" href=https://colab.research.google.com/notebooks/data_table.ipynb>data table notebook</a>'\n",
              "            + ' to learn more about interactive tables.';\n",
              "          element.innerHTML = '';\n",
              "          dataTable['output_type'] = 'display_data';\n",
              "          await google.colab.output.renderOutput(dataTable, element);\n",
              "          const docLink = document.createElement('div');\n",
              "          docLink.innerHTML = docLinkHtml;\n",
              "          element.appendChild(docLink);\n",
              "        }\n",
              "      </script>\n",
              "    </div>\n",
              "  </div>\n",
              "  "
            ]
          },
          "metadata": {},
          "execution_count": 22
        }
      ]
    },
    {
      "cell_type": "markdown",
      "source": [
        "**Draw histogram to view the numeric values distribution**"
      ],
      "metadata": {
        "id": "ck1JVIQWykHD"
      }
    },
    {
      "cell_type": "code",
      "source": [
        "%matplotlib inline\n",
        "import matplotlib.pyplot as plt\n",
        "flight.hist(bins=40, figsize=(20,15))\n",
        "plt.show()"
      ],
      "metadata": {
        "id": "lrYZS9_QyAGu",
        "colab": {
          "base_uri": "https://localhost:8080/",
          "height": 646
        },
        "outputId": "f8c49525-e91c-4fbf-9e78-36b71eeacd60"
      },
      "execution_count": 23,
      "outputs": [
        {
          "output_type": "display_data",
          "data": {
            "text/plain": [
              "<Figure size 2000x1500 with 42 Axes>"
            ],
            "image/png": "[encoded data removed]"
          },
          "metadata": {}
        }
      ]
    },
    {
      "cell_type": "markdown",
      "source": [
        "### **Get the size of taining set and test set**"
      ],
      "metadata": {
        "id": "DnxANsmZAOCx"
      }
    },
    {
      "cell_type": "code",
      "source": [
        "#using Scikit-Learn train_test_split()\n",
        "train_set, test_set = train_test_split(flight, test_size=0.2, random_state=42)\n",
        "print(\"size of training data\",len(train_set))\n",
        "print(\"size of testing data\",len(test_set))"
      ],
      "metadata": {
        "id": "CwB6_dzBAJiH",
        "colab": {
          "base_uri": "https://localhost:8080/"
        },
        "outputId": "55a49522-c2e3-4a3e-9fac-3835b1d0c8d3"
      },
      "execution_count": 24,
      "outputs": [
        {
          "output_type": "stream",
          "name": "stdout",
          "text": [
            "size of training data 39698\n",
            "size of testing data 9925\n"
          ]
        }
      ]
    },
    {
      "cell_type": "code",
      "source": [
        "flightX = train_set.drop(\"price\", axis =1)\n",
        "flightY = train_set[\"price\"].copy()\n",
        "##X_train, X_test, y_train, y_test = train_test_split(flightX, flightY, test_size=0.2, random_state=42)"
      ],
      "metadata": {
        "id": "BKpiXcCwaVM0"
      },
      "execution_count": 25,
      "outputs": []
    },
    {
      "cell_type": "markdown",
      "source": [
        "### **Linear Regression**\n",
        "\n",
        "\n"
      ],
      "metadata": {
        "id": "WihyQUj52nCK"
      }
    },
    {
      "cell_type": "code",
      "source": [
        "from sklearn.linear_model import LinearRegression\n",
        "lin_reg= LinearRegression()\n",
        "lin_reg.fit(flightX, flightY)\n",
        "lin_reg_pred= lin_reg.predict(flightX)\n",
        "lin_mse= mean_squared_error(flightY, lin_reg_pred)\n",
        "lin_rmse= np.sqrt(lin_mse)\n",
        "print(\"Linear Regression mean squared error: \", lin_rmse)\n",
        "print(\"Accuracy: \",lin_reg.score(flightX, flightY))"
      ],
      "metadata": {
        "id": "piLMARgkY-Ea",
        "colab": {
          "base_uri": "https://localhost:8080/"
        },
        "outputId": "ed9be4dd-626b-4b0e-f80b-fdbf983b2cd5"
      },
      "execution_count": 26,
      "outputs": [
        {
          "output_type": "stream",
          "name": "stdout",
          "text": [
            "Linear Regression mean squared error:  6664.819377188472\n",
            "Accuracy:  0.9132846338270899\n"
          ]
        }
      ]
    },
    {
      "cell_type": "code",
      "source": [
        "def display_scores(scores):\n",
        "    print(\"Scores:\", scores)\n",
        "    print(\"Mean:\", scores.mean())\n",
        "    print(\"Standard Deviation:\", scores.std())"
      ],
      "metadata": {
        "id": "ugVnN8LbVYGT"
      },
      "execution_count": 27,
      "outputs": []
    },
    {
      "cell_type": "code",
      "source": [
        "lin_scores = cross_val_score(lin_reg,flightX,flightY, scoring=\"neg_mean_squared_error\", cv=10)\n",
        "lin_rmse_scores = np.sqrt(-lin_scores)\n",
        "display_scores(lin_rmse_scores)"
      ],
      "metadata": {
        "id": "-uQCkZKc2qhV",
        "outputId": "5254e2ed-038a-472e-977a-e36bcd3c9ad2",
        "colab": {
          "base_uri": "https://localhost:8080/"
        }
      },
      "execution_count": 28,
      "outputs": [
        {
          "output_type": "stream",
          "name": "stdout",
          "text": [
            "Scores: [6858.04344077 6862.98066142 6607.34911805 6604.92295284 6762.70069217\n",
            " 6513.16116689 6461.75972204 6780.88712785 6595.47818134 6630.42767376]\n",
            "Mean: 6667.77107371249\n",
            "Standard Deviation: 132.92239168134606\n"
          ]
        }
      ]
    },
    {
      "cell_type": "markdown",
      "source": [
        "### **Random Forest**"
      ],
      "metadata": {
        "id": "or7rlqYEZ2gI"
      }
    },
    {
      "cell_type": "code",
      "source": [
        "from sklearn.ensemble import RandomForestRegressor\n",
        "forest_reg = RandomForestRegressor()\n",
        "forest_reg.fit(flightX,flightY)\n",
        "forest_price_predicitons= forest_reg.predict(flightX)\n",
        "regr_score = forest_reg.score(flightX, flightY)\n",
        "forest_mse= mean_squared_error(flightY, forest_price_predicitons)\n",
        "forest_rmse= np.sqrt(forest_mse)\n",
        "forest_rmse"
      ],
      "metadata": {
        "id": "C93lEERhbOrg",
        "outputId": "c1bf5a7d-091b-4e4f-a454-0129dfcba319",
        "colab": {
          "base_uri": "https://localhost:8080/"
        }
      },
      "execution_count": 29,
      "outputs": [
        {
          "output_type": "execute_result",
          "data": {
            "text/plain": [
              "1203.4045091668902"
            ]
          },
          "metadata": {},
          "execution_count": 29
        }
      ]
    },
    {
      "cell_type": "code",
      "source": [
        "print(\"Accuracy: \", regr_score)"
      ],
      "metadata": {
        "id": "YMcO7bpagPHa",
        "outputId": "b8cd2256-d0a0-4cf6-e116-5d77d8decee4",
        "colab": {
          "base_uri": "https://localhost:8080/"
        }
      },
      "execution_count": 30,
      "outputs": [
        {
          "output_type": "stream",
          "name": "stdout",
          "text": [
            "Accuracy:  0.9971728909358969\n"
          ]
        }
      ]
    },
    {
      "cell_type": "code",
      "source": [
        "def display_scores(scores):\n",
        "    print(\"Scores:\", scores)\n",
        "    print(\"Mean:\", scores.mean())\n",
        "    print(\"Standard Deviation:\", scores.std())"
      ],
      "metadata": {
        "id": "Q00jB1F56eLe"
      },
      "execution_count": 31,
      "outputs": []
    },
    {
      "cell_type": "code",
      "source": [
        "from sklearn.model_selection import cross_val_score\n",
        "forest_scores = cross_val_score(forest_reg,flightX,flightY, scoring=\"neg_mean_squared_error\", cv=10)\n",
        "forest_rmse_scores= np.sqrt(-forest_scores)\n",
        "display_scores(forest_rmse_scores)"
      ],
      "metadata": {
        "id": "QZbFtqmNRh1A",
        "colab": {
          "base_uri": "https://localhost:8080/"
        },
        "outputId": "cfd83749-dced-456c-8d48-b99e72130b66"
      },
      "execution_count": 32,
      "outputs": [
        {
          "output_type": "stream",
          "name": "stdout",
          "text": [
            "Scores: [3286.56285776 3220.49477229 3251.05891261 3260.33068466 3343.06506555\n",
            " 3235.25701373 3033.31800618 3349.59777584 3182.1686601  3039.26551075]\n",
            "Mean: 3220.1119259483426\n",
            "Standard Deviation: 103.99118076266551\n"
          ]
        }
      ]
    },
    {
      "cell_type": "markdown",
      "source": [
        "### **Decision Tree Regressor**"
      ],
      "metadata": {
        "id": "dDc8Us16MApg"
      }
    },
    {
      "cell_type": "code",
      "source": [
        "from sklearn.tree import DecisionTreeRegressor\n",
        "\n",
        "tree_reg = DecisionTreeRegressor()\n",
        "tree_reg.fit(flightX, flightY) #train the model\n",
        "price_predictions = tree_reg.predict(flightX) #predict\n",
        "tree_score = tree_reg.score(flightX, flightY)\n",
        "tree_mse = mean_squared_error (flightY, price_predictions)\n",
        "tree_rmse = np.sqrt(tree_mse)\n",
        "tree_rmse"
      ],
      "metadata": {
        "id": "hFXcDRLkWfnH",
        "colab": {
          "base_uri": "https://localhost:8080/"
        },
        "outputId": "1a57af1c-3557-42e8-8fe3-60a34cc45bb9"
      },
      "execution_count": 33,
      "outputs": [
        {
          "output_type": "execute_result",
          "data": {
            "text/plain": [
              "260.40323604911987"
            ]
          },
          "metadata": {},
          "execution_count": 33
        }
      ]
    },
    {
      "cell_type": "code",
      "source": [
        "print(\"Accuracy: \", tree_score)"
      ],
      "metadata": {
        "id": "WrGNMHJaoo6F",
        "colab": {
          "base_uri": "https://localhost:8080/"
        },
        "outputId": "22fb801f-40a8-44fb-fa93-c4a483224eb0"
      },
      "execution_count": 34,
      "outputs": [
        {
          "output_type": "stream",
          "name": "stdout",
          "text": [
            "Accuracy:  0.9998676231483473\n"
          ]
        }
      ]
    },
    {
      "cell_type": "code",
      "source": [
        "from sklearn.model_selection import cross_val_score\n",
        "scores = cross_val_score(tree_reg, flightX, flightY, scoring=\"neg_mean_squared_error\", cv=10)\n",
        "tree_rmse_scores = np.sqrt(-scores)"
      ],
      "metadata": {
        "id": "PdsR2gUAWz5C"
      },
      "execution_count": 35,
      "outputs": []
    },
    {
      "cell_type": "code",
      "source": [
        "display_scores(tree_rmse_scores)"
      ],
      "metadata": {
        "id": "qo_fNaUAXQsF",
        "outputId": "54ae8914-c48c-44d4-fe37-4b45f3b15d29",
        "colab": {
          "base_uri": "https://localhost:8080/"
        }
      },
      "execution_count": 36,
      "outputs": [
        {
          "output_type": "stream",
          "name": "stdout",
          "text": [
            "Scores: [4014.61261391 4138.68914374 4364.84731895 4092.52601721 4332.14831276\n",
            " 4294.70413526 4107.26805084 4249.41048104 4222.41716459 4109.62954734]\n",
            "Mean: 4192.625278563086\n",
            "Standard Deviation: 110.65755383506466\n"
          ]
        }
      ]
    },
    {
      "cell_type": "markdown",
      "source": [
        "### **Support Vector Machine regressor**"
      ],
      "metadata": {
        "id": "OxH_2v7OLwtj"
      }
    },
    {
      "cell_type": "code",
      "source": [
        "from sklearn.svm import SVR\n",
        "SVR_reg= SVR(kernel='linear', C=1)\n",
        "SVR_reg.fit(flightX, flightY)\n",
        "SVR_housing_predictions= SVR_reg.predict(flightX)\n",
        "SVR_score = SVR_reg.score(flightX, flightY)\n",
        "SVR_mse=mean_squared_error(flightY, SVR_housing_predictions)\n",
        "SVR_rmse= np.sqrt(SVR_mse)\n",
        "SVR_rmse "
      ],
      "metadata": {
        "id": "RVL0uajrMSpa",
        "outputId": "84924555-e037-46b6-8985-a9845ed5da7d",
        "colab": {
          "base_uri": "https://localhost:8080/"
        }
      },
      "execution_count": 37,
      "outputs": [
        {
          "output_type": "execute_result",
          "data": {
            "text/plain": [
              "13769.314431119852"
            ]
          },
          "metadata": {},
          "execution_count": 37
        }
      ]
    },
    {
      "cell_type": "code",
      "source": [
        "print(\"Accuracy: \", SVR_score)"
      ],
      "metadata": {
        "id": "bPSxO1vSRO41",
        "outputId": "fe0b978d-7d69-4b6f-eb46-3e256dfdb489",
        "colab": {
          "base_uri": "https://localhost:8080/"
        }
      },
      "execution_count": 38,
      "outputs": [
        {
          "output_type": "stream",
          "name": "stdout",
          "text": [
            "Accuracy:  0.6298788277821099\n"
          ]
        }
      ]
    },
    {
      "cell_type": "code",
      "source": [
        "from sklearn.model_selection import cross_val_score\n",
        "scores = cross_val_score(SVR_reg, flightX, flightY, scoring=\"neg_mean_squared_error\", cv=10)\n",
        "SVR_rmse_scores = np.sqrt(-scores)"
      ],
      "metadata": {
        "id": "eTVYcsWj8UuZ"
      },
      "execution_count": null,
      "outputs": []
    },
    {
      "cell_type": "code",
      "source": [
        "display_scores(SVR_rmse_scores)"
      ],
      "metadata": {
        "id": "Of1X4hIp8Vxg"
      },
      "execution_count": null,
      "outputs": []
    },
    {
      "cell_type": "code",
      "source": [
        "from sklearn.ensemble import GradientBoostingClassifier\n",
        "model = GradientBoostingClassifier(learning_rate=0.1, n_estimators=100, max_depth=3)\n",
        "model.fit(flightX, flightY)\n",
        "GB_price_pred = model.predict(flightX)\n",
        "GB_score = model.score(flightX, flightY)\n",
        "GB_mse=mean_squared_error(flightY, GB_price_pred)\n",
        "GB_rmse= np.sqrt(GB_mse)\n",
        "GB_rmse "
      ],
      "metadata": {
        "id": "dfnZvP9cQmL0",
        "outputId": "e5ea9c35-84b7-4f07-e21f-eeb3b1ce6bdf",
        "colab": {
          "base_uri": "https://localhost:8080/",
          "height": 236
        }
      },
      "execution_count": 1,
      "outputs": [
        {
          "output_type": "error",
          "ename": "NameError",
          "evalue": "ignored",
          "traceback": [
            "\u001b[0;31m---------------------------------------------------------------------------\u001b[0m",
            "\u001b[0;31mNameError\u001b[0m                                 Traceback (most recent call last)",
            "\u001b[0;32m<ipython-input-1-f96f562e1451>\u001b[0m in \u001b[0;36m<cell line: 3>\u001b[0;34m()\u001b[0m\n\u001b[1;32m      1\u001b[0m \u001b[0;32mfrom\u001b[0m \u001b[0msklearn\u001b[0m\u001b[0;34m.\u001b[0m\u001b[0mensemble\u001b[0m \u001b[0;32mimport\u001b[0m \u001b[0mGradientBoostingClassifier\u001b[0m\u001b[0;34m\u001b[0m\u001b[0;34m\u001b[0m\u001b[0m\n\u001b[1;32m      2\u001b[0m \u001b[0mmodel\u001b[0m \u001b[0;34m=\u001b[0m \u001b[0mGradientBoostingClassifier\u001b[0m\u001b[0;34m(\u001b[0m\u001b[0mlearning_rate\u001b[0m\u001b[0;34m=\u001b[0m\u001b[0;36m0.1\u001b[0m\u001b[0;34m,\u001b[0m \u001b[0mn_estimators\u001b[0m\u001b[0;34m=\u001b[0m\u001b[0;36m100\u001b[0m\u001b[0;34m,\u001b[0m \u001b[0mmax_depth\u001b[0m\u001b[0;34m=\u001b[0m\u001b[0;36m3\u001b[0m\u001b[0;34m)\u001b[0m\u001b[0;34m\u001b[0m\u001b[0;34m\u001b[0m\u001b[0m\n\u001b[0;32m----> 3\u001b[0;31m \u001b[0mmodel\u001b[0m\u001b[0;34m.\u001b[0m\u001b[0mfit\u001b[0m\u001b[0;34m(\u001b[0m\u001b[0mflightX\u001b[0m\u001b[0;34m,\u001b[0m \u001b[0mflightY\u001b[0m\u001b[0;34m)\u001b[0m\u001b[0;34m\u001b[0m\u001b[0;34m\u001b[0m\u001b[0m\n\u001b[0m\u001b[1;32m      4\u001b[0m \u001b[0mGB_price_pred\u001b[0m \u001b[0;34m=\u001b[0m \u001b[0mmodel\u001b[0m\u001b[0;34m.\u001b[0m\u001b[0mpredict\u001b[0m\u001b[0;34m(\u001b[0m\u001b[0mflightX\u001b[0m\u001b[0;34m)\u001b[0m\u001b[0;34m\u001b[0m\u001b[0;34m\u001b[0m\u001b[0m\n\u001b[1;32m      5\u001b[0m \u001b[0mGB_score\u001b[0m \u001b[0;34m=\u001b[0m \u001b[0mmodel\u001b[0m\u001b[0;34m.\u001b[0m\u001b[0mscore\u001b[0m\u001b[0;34m(\u001b[0m\u001b[0mflightX\u001b[0m\u001b[0;34m,\u001b[0m \u001b[0mflightY\u001b[0m\u001b[0;34m)\u001b[0m\u001b[0;34m\u001b[0m\u001b[0;34m\u001b[0m\u001b[0m\n",
            "\u001b[0;31mNameError\u001b[0m: name 'flightX' is not defined"
          ]
        }
      ]
    },
    {
      "cell_type": "code",
      "source": [
        "print(\"Accuracy: \", SVR_score)"
      ],
      "metadata": {
        "id": "fvyYjJIPRnUL"
      },
      "execution_count": null,
      "outputs": []
    }
  ]
}